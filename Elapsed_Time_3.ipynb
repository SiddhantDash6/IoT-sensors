{
 "cells": [
  {
   "cell_type": "code",
   "execution_count": 1,
   "id": "bb10dd91",
   "metadata": {},
   "outputs": [],
   "source": [
    "import numpy as np\n",
    "import pandas as pd\n",
    "import datetime\n",
    "# from datetime import datetime"
   ]
  },
  {
   "cell_type": "code",
   "execution_count": 2,
   "id": "06e56907",
   "metadata": {},
   "outputs": [
    {
     "data": {
      "text/html": [
       "<div>\n",
       "<style scoped>\n",
       "    .dataframe tbody tr th:only-of-type {\n",
       "        vertical-align: middle;\n",
       "    }\n",
       "\n",
       "    .dataframe tbody tr th {\n",
       "        vertical-align: top;\n",
       "    }\n",
       "\n",
       "    .dataframe thead th {\n",
       "        text-align: right;\n",
       "    }\n",
       "</style>\n",
       "<table border=\"1\" class=\"dataframe\">\n",
       "  <thead>\n",
       "    <tr style=\"text-align: right;\">\n",
       "      <th></th>\n",
       "      <th>ユーザーID</th>\n",
       "      <th>モデルID</th>\n",
       "      <th>モデル名</th>\n",
       "      <th>カメラID</th>\n",
       "      <th>カメラ名</th>\n",
       "      <th>カメラエリアID</th>\n",
       "      <th>クラスID</th>\n",
       "      <th>クラス名</th>\n",
       "      <th>精度スコア</th>\n",
       "      <th>作業者名</th>\n",
       "      <th>指示書名</th>\n",
       "      <th>検出日時</th>\n",
       "      <th>経過時間</th>\n",
       "    </tr>\n",
       "  </thead>\n",
       "  <tbody>\n",
       "    <tr>\n",
       "      <th>0</th>\n",
       "      <td>2</td>\n",
       "      <td>1</td>\n",
       "      <td>Bobbin_v1.0</td>\n",
       "      <td>2</td>\n",
       "      <td>22号機</td>\n",
       "      <td>6</td>\n",
       "      <td>0</td>\n",
       "      <td>稼働</td>\n",
       "      <td>0.00</td>\n",
       "      <td>1</td>\n",
       "      <td>0</td>\n",
       "      <td>2022-12-01 23:59:59</td>\n",
       "      <td>0</td>\n",
       "    </tr>\n",
       "    <tr>\n",
       "      <th>1</th>\n",
       "      <td>2</td>\n",
       "      <td>1</td>\n",
       "      <td>Bobbin_v1.0</td>\n",
       "      <td>2</td>\n",
       "      <td>22号機</td>\n",
       "      <td>6</td>\n",
       "      <td>0</td>\n",
       "      <td>稼働</td>\n",
       "      <td>0.96</td>\n",
       "      <td>1</td>\n",
       "      <td>0</td>\n",
       "      <td>2022-12-01 23:59:32</td>\n",
       "      <td>27</td>\n",
       "    </tr>\n",
       "    <tr>\n",
       "      <th>2</th>\n",
       "      <td>2</td>\n",
       "      <td>1</td>\n",
       "      <td>Bobbin_v1.0</td>\n",
       "      <td>2</td>\n",
       "      <td>22号機</td>\n",
       "      <td>7</td>\n",
       "      <td>0</td>\n",
       "      <td>稼働</td>\n",
       "      <td>0.84</td>\n",
       "      <td>1</td>\n",
       "      <td>0</td>\n",
       "      <td>2022-12-01 23:59:32</td>\n",
       "      <td>0</td>\n",
       "    </tr>\n",
       "    <tr>\n",
       "      <th>3</th>\n",
       "      <td>2</td>\n",
       "      <td>1</td>\n",
       "      <td>Bobbin_v1.0</td>\n",
       "      <td>2</td>\n",
       "      <td>22号機</td>\n",
       "      <td>9</td>\n",
       "      <td>0</td>\n",
       "      <td>稼働</td>\n",
       "      <td>0.82</td>\n",
       "      <td>1</td>\n",
       "      <td>0</td>\n",
       "      <td>2022-12-01 23:59:32</td>\n",
       "      <td>0</td>\n",
       "    </tr>\n",
       "    <tr>\n",
       "      <th>4</th>\n",
       "      <td>2</td>\n",
       "      <td>1</td>\n",
       "      <td>Bobbin_v1.0</td>\n",
       "      <td>2</td>\n",
       "      <td>22号機</td>\n",
       "      <td>10</td>\n",
       "      <td>0</td>\n",
       "      <td>稼働</td>\n",
       "      <td>0.05</td>\n",
       "      <td>1</td>\n",
       "      <td>0</td>\n",
       "      <td>2022-12-01 23:59:32</td>\n",
       "      <td>0</td>\n",
       "    </tr>\n",
       "    <tr>\n",
       "      <th>...</th>\n",
       "      <td>...</td>\n",
       "      <td>...</td>\n",
       "      <td>...</td>\n",
       "      <td>...</td>\n",
       "      <td>...</td>\n",
       "      <td>...</td>\n",
       "      <td>...</td>\n",
       "      <td>...</td>\n",
       "      <td>...</td>\n",
       "      <td>...</td>\n",
       "      <td>...</td>\n",
       "      <td>...</td>\n",
       "      <td>...</td>\n",
       "    </tr>\n",
       "    <tr>\n",
       "      <th>8588</th>\n",
       "      <td>2</td>\n",
       "      <td>1</td>\n",
       "      <td>Bobbin_v1.0</td>\n",
       "      <td>2</td>\n",
       "      <td>22号機</td>\n",
       "      <td>38</td>\n",
       "      <td>999</td>\n",
       "      <td>NO_DATA</td>\n",
       "      <td>1.00</td>\n",
       "      <td>1</td>\n",
       "      <td>0</td>\n",
       "      <td>2022-12-01 00:00:46</td>\n",
       "      <td>0</td>\n",
       "    </tr>\n",
       "    <tr>\n",
       "      <th>8589</th>\n",
       "      <td>2</td>\n",
       "      <td>1</td>\n",
       "      <td>Bobbin_v1.0</td>\n",
       "      <td>2</td>\n",
       "      <td>22号機</td>\n",
       "      <td>39</td>\n",
       "      <td>999</td>\n",
       "      <td>NO_DATA</td>\n",
       "      <td>1.00</td>\n",
       "      <td>1</td>\n",
       "      <td>0</td>\n",
       "      <td>2022-12-01 00:00:46</td>\n",
       "      <td>0</td>\n",
       "    </tr>\n",
       "    <tr>\n",
       "      <th>8590</th>\n",
       "      <td>2</td>\n",
       "      <td>1</td>\n",
       "      <td>Bobbin_v1.0</td>\n",
       "      <td>2</td>\n",
       "      <td>22号機</td>\n",
       "      <td>40</td>\n",
       "      <td>999</td>\n",
       "      <td>NO_DATA</td>\n",
       "      <td>1.00</td>\n",
       "      <td>1</td>\n",
       "      <td>0</td>\n",
       "      <td>2022-12-01 00:00:46</td>\n",
       "      <td>0</td>\n",
       "    </tr>\n",
       "    <tr>\n",
       "      <th>8591</th>\n",
       "      <td>2</td>\n",
       "      <td>1</td>\n",
       "      <td>Bobbin_v1.0</td>\n",
       "      <td>2</td>\n",
       "      <td>22号機</td>\n",
       "      <td>41</td>\n",
       "      <td>999</td>\n",
       "      <td>NO_DATA</td>\n",
       "      <td>1.00</td>\n",
       "      <td>1</td>\n",
       "      <td>0</td>\n",
       "      <td>2022-12-01 00:00:46</td>\n",
       "      <td>0</td>\n",
       "    </tr>\n",
       "    <tr>\n",
       "      <th>8592</th>\n",
       "      <td>2</td>\n",
       "      <td>1</td>\n",
       "      <td>Bobbin_v1.0</td>\n",
       "      <td>2</td>\n",
       "      <td>22号機</td>\n",
       "      <td>6</td>\n",
       "      <td>999</td>\n",
       "      <td>NO_DATA</td>\n",
       "      <td>0.00</td>\n",
       "      <td>1</td>\n",
       "      <td>0</td>\n",
       "      <td>2022-12-01 00:00:00</td>\n",
       "      <td>46</td>\n",
       "    </tr>\n",
       "  </tbody>\n",
       "</table>\n",
       "<p>8593 rows × 13 columns</p>\n",
       "</div>"
      ],
      "text/plain": [
       "      ユーザーID  モデルID         モデル名  カメラID  カメラ名  カメラエリアID  クラスID     クラス名  \\\n",
       "0          2      1  Bobbin_v1.0      2  22号機         6      0       稼働   \n",
       "1          2      1  Bobbin_v1.0      2  22号機         6      0       稼働   \n",
       "2          2      1  Bobbin_v1.0      2  22号機         7      0       稼働   \n",
       "3          2      1  Bobbin_v1.0      2  22号機         9      0       稼働   \n",
       "4          2      1  Bobbin_v1.0      2  22号機        10      0       稼働   \n",
       "...      ...    ...          ...    ...   ...       ...    ...      ...   \n",
       "8588       2      1  Bobbin_v1.0      2  22号機        38    999  NO_DATA   \n",
       "8589       2      1  Bobbin_v1.0      2  22号機        39    999  NO_DATA   \n",
       "8590       2      1  Bobbin_v1.0      2  22号機        40    999  NO_DATA   \n",
       "8591       2      1  Bobbin_v1.0      2  22号機        41    999  NO_DATA   \n",
       "8592       2      1  Bobbin_v1.0      2  22号機         6    999  NO_DATA   \n",
       "\n",
       "      精度スコア  作業者名  指示書名                 検出日時  経過時間  \n",
       "0      0.00     1     0  2022-12-01 23:59:59     0  \n",
       "1      0.96     1     0  2022-12-01 23:59:32    27  \n",
       "2      0.84     1     0  2022-12-01 23:59:32     0  \n",
       "3      0.82     1     0  2022-12-01 23:59:32     0  \n",
       "4      0.05     1     0  2022-12-01 23:59:32     0  \n",
       "...     ...   ...   ...                  ...   ...  \n",
       "8588   1.00     1     0  2022-12-01 00:00:46     0  \n",
       "8589   1.00     1     0  2022-12-01 00:00:46     0  \n",
       "8590   1.00     1     0  2022-12-01 00:00:46     0  \n",
       "8591   1.00     1     0  2022-12-01 00:00:46     0  \n",
       "8592   0.00     1     0  2022-12-01 00:00:00    46  \n",
       "\n",
       "[8593 rows x 13 columns]"
      ]
     },
     "execution_count": 2,
     "metadata": {},
     "output_type": "execute_result"
    }
   ],
   "source": [
    "df = pd.read_excel('000002.xlsx')\n",
    "df"
   ]
  },
  {
   "cell_type": "code",
   "execution_count": 3,
   "id": "b2d16b9c",
   "metadata": {},
   "outputs": [],
   "source": [
    "df.drop(['ユーザーID', 'モデルID', 'モデル名', 'カメラID', 'カメラ名', '作業者名', '指示書名'], axis = 1, inplace=True)"
   ]
  },
  {
   "cell_type": "code",
   "execution_count": 4,
   "id": "7018195e",
   "metadata": {},
   "outputs": [],
   "source": [
    "df.rename(columns = {'カメラエリアID':'Camera_Area_ID', 'クラスID':'Class_ID', 'クラス名':'Class_Name', '精度スコア':'Acc_Score', '検出日時':'Detection_Time', '経過時間':'Elapsed_Time'}, inplace=True)"
   ]
  },
  {
   "cell_type": "code",
   "execution_count": 5,
   "id": "11f72d94",
   "metadata": {},
   "outputs": [
    {
     "data": {
      "text/plain": [
       "Index(['Camera_Area_ID', 'Class_ID', 'Class_Name', 'Acc_Score',\n",
       "       'Detection_Time', 'Elapsed_Time'],\n",
       "      dtype='object')"
      ]
     },
     "execution_count": 5,
     "metadata": {},
     "output_type": "execute_result"
    }
   ],
   "source": [
    "df.columns"
   ]
  },
  {
   "cell_type": "code",
   "execution_count": 6,
   "id": "3aba61c8",
   "metadata": {},
   "outputs": [
    {
     "data": {
      "text/plain": [
       "(8593, 6)"
      ]
     },
     "execution_count": 6,
     "metadata": {},
     "output_type": "execute_result"
    }
   ],
   "source": [
    "df.shape"
   ]
  },
  {
   "cell_type": "code",
   "execution_count": 7,
   "id": "41888464",
   "metadata": {},
   "outputs": [
    {
     "data": {
      "text/plain": [
       "Camera_Area_ID      int64\n",
       "Class_ID            int64\n",
       "Class_Name         object\n",
       "Acc_Score         float64\n",
       "Detection_Time     object\n",
       "Elapsed_Time        int64\n",
       "dtype: object"
      ]
     },
     "execution_count": 7,
     "metadata": {},
     "output_type": "execute_result"
    }
   ],
   "source": [
    "df.dtypes"
   ]
  },
  {
   "cell_type": "code",
   "execution_count": 8,
   "id": "275c65a2",
   "metadata": {},
   "outputs": [
    {
     "data": {
      "text/html": [
       "<div>\n",
       "<style scoped>\n",
       "    .dataframe tbody tr th:only-of-type {\n",
       "        vertical-align: middle;\n",
       "    }\n",
       "\n",
       "    .dataframe tbody tr th {\n",
       "        vertical-align: top;\n",
       "    }\n",
       "\n",
       "    .dataframe thead th {\n",
       "        text-align: right;\n",
       "    }\n",
       "</style>\n",
       "<table border=\"1\" class=\"dataframe\">\n",
       "  <thead>\n",
       "    <tr style=\"text-align: right;\">\n",
       "      <th></th>\n",
       "      <th>Camera_Area_ID</th>\n",
       "      <th>Class_ID</th>\n",
       "      <th>Class_Name</th>\n",
       "      <th>Acc_Score</th>\n",
       "      <th>Detection_Time</th>\n",
       "      <th>Elapsed_Time</th>\n",
       "      <th>DateTime</th>\n",
       "    </tr>\n",
       "  </thead>\n",
       "  <tbody>\n",
       "    <tr>\n",
       "      <th>0</th>\n",
       "      <td>6</td>\n",
       "      <td>0</td>\n",
       "      <td>稼働</td>\n",
       "      <td>0.00</td>\n",
       "      <td>2022-12-01 23:59:59</td>\n",
       "      <td>0</td>\n",
       "      <td>2022-12-01 23:59:59</td>\n",
       "    </tr>\n",
       "    <tr>\n",
       "      <th>1</th>\n",
       "      <td>6</td>\n",
       "      <td>0</td>\n",
       "      <td>稼働</td>\n",
       "      <td>0.96</td>\n",
       "      <td>2022-12-01 23:59:32</td>\n",
       "      <td>27</td>\n",
       "      <td>2022-12-01 23:59:32</td>\n",
       "    </tr>\n",
       "    <tr>\n",
       "      <th>2</th>\n",
       "      <td>7</td>\n",
       "      <td>0</td>\n",
       "      <td>稼働</td>\n",
       "      <td>0.84</td>\n",
       "      <td>2022-12-01 23:59:32</td>\n",
       "      <td>0</td>\n",
       "      <td>2022-12-01 23:59:32</td>\n",
       "    </tr>\n",
       "    <tr>\n",
       "      <th>3</th>\n",
       "      <td>9</td>\n",
       "      <td>0</td>\n",
       "      <td>稼働</td>\n",
       "      <td>0.82</td>\n",
       "      <td>2022-12-01 23:59:32</td>\n",
       "      <td>0</td>\n",
       "      <td>2022-12-01 23:59:32</td>\n",
       "    </tr>\n",
       "    <tr>\n",
       "      <th>4</th>\n",
       "      <td>10</td>\n",
       "      <td>0</td>\n",
       "      <td>稼働</td>\n",
       "      <td>0.05</td>\n",
       "      <td>2022-12-01 23:59:32</td>\n",
       "      <td>0</td>\n",
       "      <td>2022-12-01 23:59:32</td>\n",
       "    </tr>\n",
       "    <tr>\n",
       "      <th>...</th>\n",
       "      <td>...</td>\n",
       "      <td>...</td>\n",
       "      <td>...</td>\n",
       "      <td>...</td>\n",
       "      <td>...</td>\n",
       "      <td>...</td>\n",
       "      <td>...</td>\n",
       "    </tr>\n",
       "    <tr>\n",
       "      <th>8588</th>\n",
       "      <td>38</td>\n",
       "      <td>999</td>\n",
       "      <td>NO_DATA</td>\n",
       "      <td>1.00</td>\n",
       "      <td>2022-12-01 00:00:46</td>\n",
       "      <td>0</td>\n",
       "      <td>2022-12-01 00:00:46</td>\n",
       "    </tr>\n",
       "    <tr>\n",
       "      <th>8589</th>\n",
       "      <td>39</td>\n",
       "      <td>999</td>\n",
       "      <td>NO_DATA</td>\n",
       "      <td>1.00</td>\n",
       "      <td>2022-12-01 00:00:46</td>\n",
       "      <td>0</td>\n",
       "      <td>2022-12-01 00:00:46</td>\n",
       "    </tr>\n",
       "    <tr>\n",
       "      <th>8590</th>\n",
       "      <td>40</td>\n",
       "      <td>999</td>\n",
       "      <td>NO_DATA</td>\n",
       "      <td>1.00</td>\n",
       "      <td>2022-12-01 00:00:46</td>\n",
       "      <td>0</td>\n",
       "      <td>2022-12-01 00:00:46</td>\n",
       "    </tr>\n",
       "    <tr>\n",
       "      <th>8591</th>\n",
       "      <td>41</td>\n",
       "      <td>999</td>\n",
       "      <td>NO_DATA</td>\n",
       "      <td>1.00</td>\n",
       "      <td>2022-12-01 00:00:46</td>\n",
       "      <td>0</td>\n",
       "      <td>2022-12-01 00:00:46</td>\n",
       "    </tr>\n",
       "    <tr>\n",
       "      <th>8592</th>\n",
       "      <td>6</td>\n",
       "      <td>999</td>\n",
       "      <td>NO_DATA</td>\n",
       "      <td>0.00</td>\n",
       "      <td>2022-12-01 00:00:00</td>\n",
       "      <td>46</td>\n",
       "      <td>2022-12-01 00:00:00</td>\n",
       "    </tr>\n",
       "  </tbody>\n",
       "</table>\n",
       "<p>8593 rows × 7 columns</p>\n",
       "</div>"
      ],
      "text/plain": [
       "      Camera_Area_ID  Class_ID Class_Name  Acc_Score       Detection_Time  \\\n",
       "0                  6         0         稼働       0.00  2022-12-01 23:59:59   \n",
       "1                  6         0         稼働       0.96  2022-12-01 23:59:32   \n",
       "2                  7         0         稼働       0.84  2022-12-01 23:59:32   \n",
       "3                  9         0         稼働       0.82  2022-12-01 23:59:32   \n",
       "4                 10         0         稼働       0.05  2022-12-01 23:59:32   \n",
       "...              ...       ...        ...        ...                  ...   \n",
       "8588              38       999    NO_DATA       1.00  2022-12-01 00:00:46   \n",
       "8589              39       999    NO_DATA       1.00  2022-12-01 00:00:46   \n",
       "8590              40       999    NO_DATA       1.00  2022-12-01 00:00:46   \n",
       "8591              41       999    NO_DATA       1.00  2022-12-01 00:00:46   \n",
       "8592               6       999    NO_DATA       0.00  2022-12-01 00:00:00   \n",
       "\n",
       "      Elapsed_Time            DateTime  \n",
       "0                0 2022-12-01 23:59:59  \n",
       "1               27 2022-12-01 23:59:32  \n",
       "2                0 2022-12-01 23:59:32  \n",
       "3                0 2022-12-01 23:59:32  \n",
       "4                0 2022-12-01 23:59:32  \n",
       "...            ...                 ...  \n",
       "8588             0 2022-12-01 00:00:46  \n",
       "8589             0 2022-12-01 00:00:46  \n",
       "8590             0 2022-12-01 00:00:46  \n",
       "8591             0 2022-12-01 00:00:46  \n",
       "8592            46 2022-12-01 00:00:00  \n",
       "\n",
       "[8593 rows x 7 columns]"
      ]
     },
     "execution_count": 8,
     "metadata": {},
     "output_type": "execute_result"
    }
   ],
   "source": [
    "df['DateTime'] = pd.to_datetime(df['Detection_Time'])\n",
    "df"
   ]
  },
  {
   "cell_type": "code",
   "execution_count": 9,
   "id": "cff40098",
   "metadata": {},
   "outputs": [
    {
     "data": {
      "text/plain": [
       "Camera_Area_ID             int64\n",
       "Class_ID                   int64\n",
       "Class_Name                object\n",
       "Acc_Score                float64\n",
       "Detection_Time            object\n",
       "Elapsed_Time               int64\n",
       "DateTime          datetime64[ns]\n",
       "dtype: object"
      ]
     },
     "execution_count": 9,
     "metadata": {},
     "output_type": "execute_result"
    }
   ],
   "source": [
    "df.dtypes"
   ]
  },
  {
   "cell_type": "code",
   "execution_count": 10,
   "id": "9c89e4d3",
   "metadata": {},
   "outputs": [],
   "source": [
    "df.drop('Detection_Time', axis=1, inplace=True)"
   ]
  },
  {
   "cell_type": "code",
   "execution_count": 16,
   "id": "729645ad",
   "metadata": {},
   "outputs": [
    {
     "data": {
      "text/plain": [
       "RangeIndex(start=0, stop=8593, step=1)"
      ]
     },
     "execution_count": 16,
     "metadata": {},
     "output_type": "execute_result"
    }
   ],
   "source": [
    "df['DateTime'].index"
   ]
  },
  {
   "cell_type": "code",
   "execution_count": 17,
   "id": "df6b61e6",
   "metadata": {},
   "outputs": [],
   "source": [
    "df.set_index('DateTime', inplace=True)"
   ]
  },
  {
   "cell_type": "code",
   "execution_count": 18,
   "id": "8d01c387",
   "metadata": {},
   "outputs": [
    {
     "data": {
      "text/html": [
       "<div>\n",
       "<style scoped>\n",
       "    .dataframe tbody tr th:only-of-type {\n",
       "        vertical-align: middle;\n",
       "    }\n",
       "\n",
       "    .dataframe tbody tr th {\n",
       "        vertical-align: top;\n",
       "    }\n",
       "\n",
       "    .dataframe thead th {\n",
       "        text-align: right;\n",
       "    }\n",
       "</style>\n",
       "<table border=\"1\" class=\"dataframe\">\n",
       "  <thead>\n",
       "    <tr style=\"text-align: right;\">\n",
       "      <th></th>\n",
       "      <th>Camera_Area_ID</th>\n",
       "      <th>Class_ID</th>\n",
       "      <th>Class_Name</th>\n",
       "      <th>Acc_Score</th>\n",
       "      <th>Elapsed_Time</th>\n",
       "    </tr>\n",
       "    <tr>\n",
       "      <th>DateTime</th>\n",
       "      <th></th>\n",
       "      <th></th>\n",
       "      <th></th>\n",
       "      <th></th>\n",
       "      <th></th>\n",
       "    </tr>\n",
       "  </thead>\n",
       "  <tbody>\n",
       "    <tr>\n",
       "      <th>2022-12-01 23:59:59</th>\n",
       "      <td>6</td>\n",
       "      <td>0</td>\n",
       "      <td>稼働</td>\n",
       "      <td>0.00</td>\n",
       "      <td>0</td>\n",
       "    </tr>\n",
       "    <tr>\n",
       "      <th>2022-12-01 23:59:32</th>\n",
       "      <td>6</td>\n",
       "      <td>0</td>\n",
       "      <td>稼働</td>\n",
       "      <td>0.96</td>\n",
       "      <td>27</td>\n",
       "    </tr>\n",
       "    <tr>\n",
       "      <th>2022-12-01 23:59:32</th>\n",
       "      <td>7</td>\n",
       "      <td>0</td>\n",
       "      <td>稼働</td>\n",
       "      <td>0.84</td>\n",
       "      <td>0</td>\n",
       "    </tr>\n",
       "    <tr>\n",
       "      <th>2022-12-01 23:59:32</th>\n",
       "      <td>9</td>\n",
       "      <td>0</td>\n",
       "      <td>稼働</td>\n",
       "      <td>0.82</td>\n",
       "      <td>0</td>\n",
       "    </tr>\n",
       "    <tr>\n",
       "      <th>2022-12-01 23:59:32</th>\n",
       "      <td>10</td>\n",
       "      <td>0</td>\n",
       "      <td>稼働</td>\n",
       "      <td>0.05</td>\n",
       "      <td>0</td>\n",
       "    </tr>\n",
       "    <tr>\n",
       "      <th>...</th>\n",
       "      <td>...</td>\n",
       "      <td>...</td>\n",
       "      <td>...</td>\n",
       "      <td>...</td>\n",
       "      <td>...</td>\n",
       "    </tr>\n",
       "    <tr>\n",
       "      <th>2022-12-01 00:00:46</th>\n",
       "      <td>38</td>\n",
       "      <td>999</td>\n",
       "      <td>NO_DATA</td>\n",
       "      <td>1.00</td>\n",
       "      <td>0</td>\n",
       "    </tr>\n",
       "    <tr>\n",
       "      <th>2022-12-01 00:00:46</th>\n",
       "      <td>39</td>\n",
       "      <td>999</td>\n",
       "      <td>NO_DATA</td>\n",
       "      <td>1.00</td>\n",
       "      <td>0</td>\n",
       "    </tr>\n",
       "    <tr>\n",
       "      <th>2022-12-01 00:00:46</th>\n",
       "      <td>40</td>\n",
       "      <td>999</td>\n",
       "      <td>NO_DATA</td>\n",
       "      <td>1.00</td>\n",
       "      <td>0</td>\n",
       "    </tr>\n",
       "    <tr>\n",
       "      <th>2022-12-01 00:00:46</th>\n",
       "      <td>41</td>\n",
       "      <td>999</td>\n",
       "      <td>NO_DATA</td>\n",
       "      <td>1.00</td>\n",
       "      <td>0</td>\n",
       "    </tr>\n",
       "    <tr>\n",
       "      <th>2022-12-01 00:00:00</th>\n",
       "      <td>6</td>\n",
       "      <td>999</td>\n",
       "      <td>NO_DATA</td>\n",
       "      <td>0.00</td>\n",
       "      <td>46</td>\n",
       "    </tr>\n",
       "  </tbody>\n",
       "</table>\n",
       "<p>8593 rows × 5 columns</p>\n",
       "</div>"
      ],
      "text/plain": [
       "                     Camera_Area_ID  Class_ID Class_Name  Acc_Score  \\\n",
       "DateTime                                                              \n",
       "2022-12-01 23:59:59               6         0         稼働       0.00   \n",
       "2022-12-01 23:59:32               6         0         稼働       0.96   \n",
       "2022-12-01 23:59:32               7         0         稼働       0.84   \n",
       "2022-12-01 23:59:32               9         0         稼働       0.82   \n",
       "2022-12-01 23:59:32              10         0         稼働       0.05   \n",
       "...                             ...       ...        ...        ...   \n",
       "2022-12-01 00:00:46              38       999    NO_DATA       1.00   \n",
       "2022-12-01 00:00:46              39       999    NO_DATA       1.00   \n",
       "2022-12-01 00:00:46              40       999    NO_DATA       1.00   \n",
       "2022-12-01 00:00:46              41       999    NO_DATA       1.00   \n",
       "2022-12-01 00:00:00               6       999    NO_DATA       0.00   \n",
       "\n",
       "                     Elapsed_Time  \n",
       "DateTime                           \n",
       "2022-12-01 23:59:59             0  \n",
       "2022-12-01 23:59:32            27  \n",
       "2022-12-01 23:59:32             0  \n",
       "2022-12-01 23:59:32             0  \n",
       "2022-12-01 23:59:32             0  \n",
       "...                           ...  \n",
       "2022-12-01 00:00:46             0  \n",
       "2022-12-01 00:00:46             0  \n",
       "2022-12-01 00:00:46             0  \n",
       "2022-12-01 00:00:46             0  \n",
       "2022-12-01 00:00:00            46  \n",
       "\n",
       "[8593 rows x 5 columns]"
      ]
     },
     "execution_count": 18,
     "metadata": {},
     "output_type": "execute_result"
    }
   ],
   "source": [
    "df"
   ]
  },
  {
   "cell_type": "code",
   "execution_count": 40,
   "id": "02f3166b",
   "metadata": {},
   "outputs": [],
   "source": [
    "grp = df.groupby(pd.Grouper(freq='H'))"
   ]
  },
  {
   "cell_type": "code",
   "execution_count": 58,
   "id": "ff4e56e1",
   "metadata": {
    "scrolled": false
   },
   "outputs": [
    {
     "data": {
      "text/html": [
       "<div>\n",
       "<style scoped>\n",
       "    .dataframe tbody tr th:only-of-type {\n",
       "        vertical-align: middle;\n",
       "    }\n",
       "\n",
       "    .dataframe tbody tr th {\n",
       "        vertical-align: top;\n",
       "    }\n",
       "\n",
       "    .dataframe thead th {\n",
       "        text-align: right;\n",
       "    }\n",
       "</style>\n",
       "<table border=\"1\" class=\"dataframe\">\n",
       "  <thead>\n",
       "    <tr style=\"text-align: right;\">\n",
       "      <th></th>\n",
       "      <th>Camera_Area_ID</th>\n",
       "      <th>Class_ID</th>\n",
       "      <th>Class_Name</th>\n",
       "      <th>Acc_Score</th>\n",
       "      <th>Elapsed_Time</th>\n",
       "    </tr>\n",
       "    <tr>\n",
       "      <th>DateTime</th>\n",
       "      <th></th>\n",
       "      <th></th>\n",
       "      <th></th>\n",
       "      <th></th>\n",
       "      <th></th>\n",
       "    </tr>\n",
       "  </thead>\n",
       "  <tbody>\n",
       "    <tr>\n",
       "      <th>2022-12-01 00:00:00</th>\n",
       "      <td>6</td>\n",
       "      <td>999</td>\n",
       "      <td>NO_DATA</td>\n",
       "      <td>0.0</td>\n",
       "      <td>46</td>\n",
       "    </tr>\n",
       "    <tr>\n",
       "      <th>2022-12-01 01:00:00</th>\n",
       "      <td>6</td>\n",
       "      <td>999</td>\n",
       "      <td>NO_DATA</td>\n",
       "      <td>0.0</td>\n",
       "      <td>127</td>\n",
       "    </tr>\n",
       "    <tr>\n",
       "      <th>2022-12-01 02:00:00</th>\n",
       "      <td>6</td>\n",
       "      <td>999</td>\n",
       "      <td>NO_DATA</td>\n",
       "      <td>0.0</td>\n",
       "      <td>199</td>\n",
       "    </tr>\n",
       "    <tr>\n",
       "      <th>2022-12-01 03:00:00</th>\n",
       "      <td>6</td>\n",
       "      <td>999</td>\n",
       "      <td>NO_DATA</td>\n",
       "      <td>0.0</td>\n",
       "      <td>46</td>\n",
       "    </tr>\n",
       "    <tr>\n",
       "      <th>2022-12-01 04:00:00</th>\n",
       "      <td>6</td>\n",
       "      <td>999</td>\n",
       "      <td>NO_DATA</td>\n",
       "      <td>0.0</td>\n",
       "      <td>230</td>\n",
       "    </tr>\n",
       "    <tr>\n",
       "      <th>2022-12-01 05:00:00</th>\n",
       "      <td>6</td>\n",
       "      <td>999</td>\n",
       "      <td>NO_DATA</td>\n",
       "      <td>0.0</td>\n",
       "      <td>136</td>\n",
       "    </tr>\n",
       "    <tr>\n",
       "      <th>2022-12-01 06:00:00</th>\n",
       "      <td>6</td>\n",
       "      <td>999</td>\n",
       "      <td>NO_DATA</td>\n",
       "      <td>0.0</td>\n",
       "      <td>22</td>\n",
       "    </tr>\n",
       "    <tr>\n",
       "      <th>2022-12-01 07:00:00</th>\n",
       "      <td>6</td>\n",
       "      <td>999</td>\n",
       "      <td>NO_DATA</td>\n",
       "      <td>0.0</td>\n",
       "      <td>172</td>\n",
       "    </tr>\n",
       "    <tr>\n",
       "      <th>2022-12-01 08:00:00</th>\n",
       "      <td>6</td>\n",
       "      <td>999</td>\n",
       "      <td>NO_DATA</td>\n",
       "      <td>0.0</td>\n",
       "      <td>281</td>\n",
       "    </tr>\n",
       "    <tr>\n",
       "      <th>2022-12-01 09:00:00</th>\n",
       "      <td>6</td>\n",
       "      <td>999</td>\n",
       "      <td>NO_DATA</td>\n",
       "      <td>0.0</td>\n",
       "      <td>230</td>\n",
       "    </tr>\n",
       "    <tr>\n",
       "      <th>2022-12-01 10:00:00</th>\n",
       "      <td>6</td>\n",
       "      <td>999</td>\n",
       "      <td>NO_DATA</td>\n",
       "      <td>0.0</td>\n",
       "      <td>47</td>\n",
       "    </tr>\n",
       "    <tr>\n",
       "      <th>2022-12-01 11:00:00</th>\n",
       "      <td>6</td>\n",
       "      <td>999</td>\n",
       "      <td>NO_DATA</td>\n",
       "      <td>0.0</td>\n",
       "      <td>256</td>\n",
       "    </tr>\n",
       "    <tr>\n",
       "      <th>2022-12-01 12:00:00</th>\n",
       "      <td>6</td>\n",
       "      <td>999</td>\n",
       "      <td>NO_DATA</td>\n",
       "      <td>0.0</td>\n",
       "      <td>206</td>\n",
       "    </tr>\n",
       "    <tr>\n",
       "      <th>2022-12-01 13:00:00</th>\n",
       "      <td>6</td>\n",
       "      <td>0</td>\n",
       "      <td>稼働</td>\n",
       "      <td>0.0</td>\n",
       "      <td>9</td>\n",
       "    </tr>\n",
       "    <tr>\n",
       "      <th>2022-12-01 14:00:00</th>\n",
       "      <td>6</td>\n",
       "      <td>0</td>\n",
       "      <td>稼働</td>\n",
       "      <td>0.0</td>\n",
       "      <td>939</td>\n",
       "    </tr>\n",
       "    <tr>\n",
       "      <th>2022-12-01 15:00:00</th>\n",
       "      <td>6</td>\n",
       "      <td>0</td>\n",
       "      <td>稼働</td>\n",
       "      <td>0.0</td>\n",
       "      <td>27</td>\n",
       "    </tr>\n",
       "    <tr>\n",
       "      <th>2022-12-01 16:00:00</th>\n",
       "      <td>6</td>\n",
       "      <td>0</td>\n",
       "      <td>稼働</td>\n",
       "      <td>0.0</td>\n",
       "      <td>289</td>\n",
       "    </tr>\n",
       "    <tr>\n",
       "      <th>2022-12-01 17:00:00</th>\n",
       "      <td>6</td>\n",
       "      <td>0</td>\n",
       "      <td>稼働</td>\n",
       "      <td>0.0</td>\n",
       "      <td>270</td>\n",
       "    </tr>\n",
       "    <tr>\n",
       "      <th>2022-12-01 18:00:00</th>\n",
       "      <td>6</td>\n",
       "      <td>0</td>\n",
       "      <td>稼働</td>\n",
       "      <td>0.0</td>\n",
       "      <td>275</td>\n",
       "    </tr>\n",
       "    <tr>\n",
       "      <th>2022-12-01 19:00:00</th>\n",
       "      <td>6</td>\n",
       "      <td>0</td>\n",
       "      <td>稼働</td>\n",
       "      <td>0.0</td>\n",
       "      <td>255</td>\n",
       "    </tr>\n",
       "    <tr>\n",
       "      <th>2022-12-01 20:00:00</th>\n",
       "      <td>6</td>\n",
       "      <td>999</td>\n",
       "      <td>NO_DATA</td>\n",
       "      <td>0.0</td>\n",
       "      <td>254</td>\n",
       "    </tr>\n",
       "    <tr>\n",
       "      <th>2022-12-01 21:00:00</th>\n",
       "      <td>6</td>\n",
       "      <td>0</td>\n",
       "      <td>稼働</td>\n",
       "      <td>0.0</td>\n",
       "      <td>113</td>\n",
       "    </tr>\n",
       "    <tr>\n",
       "      <th>2022-12-01 22:00:00</th>\n",
       "      <td>6</td>\n",
       "      <td>0</td>\n",
       "      <td>稼働</td>\n",
       "      <td>0.0</td>\n",
       "      <td>72</td>\n",
       "    </tr>\n",
       "    <tr>\n",
       "      <th>2022-12-01 23:00:00</th>\n",
       "      <td>6</td>\n",
       "      <td>0</td>\n",
       "      <td>稼働</td>\n",
       "      <td>0.0</td>\n",
       "      <td>57</td>\n",
       "    </tr>\n",
       "  </tbody>\n",
       "</table>\n",
       "</div>"
      ],
      "text/plain": [
       "                     Camera_Area_ID  Class_ID Class_Name  Acc_Score  \\\n",
       "DateTime                                                              \n",
       "2022-12-01 00:00:00               6       999    NO_DATA        0.0   \n",
       "2022-12-01 01:00:00               6       999    NO_DATA        0.0   \n",
       "2022-12-01 02:00:00               6       999    NO_DATA        0.0   \n",
       "2022-12-01 03:00:00               6       999    NO_DATA        0.0   \n",
       "2022-12-01 04:00:00               6       999    NO_DATA        0.0   \n",
       "2022-12-01 05:00:00               6       999    NO_DATA        0.0   \n",
       "2022-12-01 06:00:00               6       999    NO_DATA        0.0   \n",
       "2022-12-01 07:00:00               6       999    NO_DATA        0.0   \n",
       "2022-12-01 08:00:00               6       999    NO_DATA        0.0   \n",
       "2022-12-01 09:00:00               6       999    NO_DATA        0.0   \n",
       "2022-12-01 10:00:00               6       999    NO_DATA        0.0   \n",
       "2022-12-01 11:00:00               6       999    NO_DATA        0.0   \n",
       "2022-12-01 12:00:00               6       999    NO_DATA        0.0   \n",
       "2022-12-01 13:00:00               6         0         稼働        0.0   \n",
       "2022-12-01 14:00:00               6         0         稼働        0.0   \n",
       "2022-12-01 15:00:00               6         0         稼働        0.0   \n",
       "2022-12-01 16:00:00               6         0         稼働        0.0   \n",
       "2022-12-01 17:00:00               6         0         稼働        0.0   \n",
       "2022-12-01 18:00:00               6         0         稼働        0.0   \n",
       "2022-12-01 19:00:00               6         0         稼働        0.0   \n",
       "2022-12-01 20:00:00               6       999    NO_DATA        0.0   \n",
       "2022-12-01 21:00:00               6         0         稼働        0.0   \n",
       "2022-12-01 22:00:00               6         0         稼働        0.0   \n",
       "2022-12-01 23:00:00               6         0         稼働        0.0   \n",
       "\n",
       "                     Elapsed_Time  \n",
       "DateTime                           \n",
       "2022-12-01 00:00:00            46  \n",
       "2022-12-01 01:00:00           127  \n",
       "2022-12-01 02:00:00           199  \n",
       "2022-12-01 03:00:00            46  \n",
       "2022-12-01 04:00:00           230  \n",
       "2022-12-01 05:00:00           136  \n",
       "2022-12-01 06:00:00            22  \n",
       "2022-12-01 07:00:00           172  \n",
       "2022-12-01 08:00:00           281  \n",
       "2022-12-01 09:00:00           230  \n",
       "2022-12-01 10:00:00            47  \n",
       "2022-12-01 11:00:00           256  \n",
       "2022-12-01 12:00:00           206  \n",
       "2022-12-01 13:00:00             9  \n",
       "2022-12-01 14:00:00           939  \n",
       "2022-12-01 15:00:00            27  \n",
       "2022-12-01 16:00:00           289  \n",
       "2022-12-01 17:00:00           270  \n",
       "2022-12-01 18:00:00           275  \n",
       "2022-12-01 19:00:00           255  \n",
       "2022-12-01 20:00:00           254  \n",
       "2022-12-01 21:00:00           113  \n",
       "2022-12-01 22:00:00            72  \n",
       "2022-12-01 23:00:00            57  "
      ]
     },
     "execution_count": 58,
     "metadata": {},
     "output_type": "execute_result"
    }
   ],
   "source": [
    "grp.first()"
   ]
  },
  {
   "cell_type": "code",
   "execution_count": 54,
   "id": "5a10cb76",
   "metadata": {},
   "outputs": [
    {
     "data": {
      "text/plain": [
       "array(['NO_DATA'], dtype=object)"
      ]
     },
     "execution_count": 54,
     "metadata": {},
     "output_type": "execute_result"
    }
   ],
   "source": [
    "grp.get_group('2022-12-01 01:00:00')['Class_Name'].unique()"
   ]
  },
  {
   "cell_type": "code",
   "execution_count": 56,
   "id": "bcd8ae90",
   "metadata": {},
   "outputs": [
    {
     "data": {
      "text/plain": [
       "array(['稼働', 'NO_DATA'], dtype=object)"
      ]
     },
     "execution_count": 56,
     "metadata": {},
     "output_type": "execute_result"
    }
   ],
   "source": [
    "grp.get_group('2022-12-01 13:00:00')['Class_Name'].unique()"
   ]
  },
  {
   "cell_type": "code",
   "execution_count": null,
   "id": "a18caef5",
   "metadata": {},
   "outputs": [],
   "source": []
  },
  {
   "cell_type": "code",
   "execution_count": null,
   "id": "2eea7b14",
   "metadata": {},
   "outputs": [],
   "source": []
  },
  {
   "cell_type": "code",
   "execution_count": null,
   "id": "c6429601",
   "metadata": {},
   "outputs": [],
   "source": []
  },
  {
   "cell_type": "code",
   "execution_count": null,
   "id": "d4d6d395",
   "metadata": {},
   "outputs": [],
   "source": []
  },
  {
   "cell_type": "code",
   "execution_count": null,
   "id": "db9f8191",
   "metadata": {},
   "outputs": [],
   "source": []
  },
  {
   "cell_type": "code",
   "execution_count": null,
   "id": "5da84572",
   "metadata": {},
   "outputs": [],
   "source": [
    "df['経過時間'].unique()"
   ]
  },
  {
   "cell_type": "code",
   "execution_count": null,
   "id": "b0b47c33",
   "metadata": {
    "scrolled": true
   },
   "outputs": [],
   "source": [
    "df['カメラエリアID'].value_counts()   # \" カメラエリアID \"  ==  \" Camera Area ID \"  \n",
    "\n",
    "#  Only for \" カメラエリアID \" == 6, value is 433 for rest it is only 408"
   ]
  },
  {
   "cell_type": "code",
   "execution_count": null,
   "id": "ef9eb0f3",
   "metadata": {},
   "outputs": [],
   "source": [
    "df['カメラエリアID'].unique()"
   ]
  },
  {
   "cell_type": "code",
   "execution_count": null,
   "id": "5a5f0e37",
   "metadata": {},
   "outputs": [],
   "source": [
    "df"
   ]
  },
  {
   "cell_type": "code",
   "execution_count": null,
   "id": "bdf0d4a3",
   "metadata": {},
   "outputs": [],
   "source": [
    "# df[df['検出日時'] == ]"
   ]
  },
  {
   "cell_type": "code",
   "execution_count": null,
   "id": "b8407f68",
   "metadata": {},
   "outputs": [],
   "source": [
    "# grp2 = df.groupby('カメラエリアID').filter(lambda x: df['カメラエリアID'] == 4)"
   ]
  },
  {
   "cell_type": "code",
   "execution_count": null,
   "id": "c005978a",
   "metadata": {},
   "outputs": [],
   "source": [
    "grp = df.groupby('カメラエリアID')"
   ]
  },
  {
   "cell_type": "code",
   "execution_count": null,
   "id": "f5a9493c",
   "metadata": {
    "scrolled": true
   },
   "outputs": [],
   "source": [
    "# group for eaach \" Camera Area ID \"\n",
    "\n",
    "grp.first()"
   ]
  },
  {
   "cell_type": "code",
   "execution_count": null,
   "id": "066a3cd2",
   "metadata": {},
   "outputs": [],
   "source": [
    "# grp['クラス名'] == 'NO_DATA'\n",
    "\n",
    "def categorize_ClassName(x):\n",
    "    m = x.mean()\n",
    "    return True if m > 29 else False"
   ]
  },
  {
   "cell_type": "code",
   "execution_count": null,
   "id": "14485ab8",
   "metadata": {},
   "outputs": [],
   "source": [
    "df.groupby('Sex').Age.agg(['max', 'mean', categorize])"
   ]
  },
  {
   "cell_type": "code",
   "execution_count": null,
   "id": "598a6d57",
   "metadata": {},
   "outputs": [],
   "source": [
    "# Elapsed Time for \" Camera Area ID \" == 6 and different \" detection date and time \" \n",
    "\n",
    "grp.get_group(6) #  \" クラス名 \" == \" Class Name \"\n",
    "\n",
    "## Accuracy Score  == \" 2022-12-01 23:59:59  -  2022-12-01 23:59:32 / 100 \""
   ]
  },
  {
   "cell_type": "code",
   "execution_count": null,
   "id": "c035fcb2",
   "metadata": {
    "scrolled": false
   },
   "outputs": [],
   "source": [
    "# size() acts same as value_counts()\n",
    "\n",
    "grp.size()"
   ]
  },
  {
   "cell_type": "code",
   "execution_count": null,
   "id": "6bc62187",
   "metadata": {},
   "outputs": [],
   "source": [
    "# Different Elapsed Time for \" Camera Area ID \" == 6\n",
    "\n",
    "grp.get_group(6)['経過時間'].unique()"
   ]
  },
  {
   "cell_type": "code",
   "execution_count": null,
   "id": "367be090",
   "metadata": {},
   "outputs": [],
   "source": [
    "grp.get_group(7)['経過時間'].unique()  ##  Only one Elapsed Time for \" Camera Area ID \" == 7"
   ]
  },
  {
   "cell_type": "code",
   "execution_count": null,
   "id": "ea1669d3",
   "metadata": {},
   "outputs": [],
   "source": [
    "df.groupby('Cabin').filter(lambda x: len(x) >= 4)"
   ]
  },
  {
   "cell_type": "code",
   "execution_count": null,
   "id": "8ae82df5",
   "metadata": {},
   "outputs": [],
   "source": [
    "\n",
    "\n",
    "# grp2 = df.groupby(['カメラエリアID', '検出日時'])\n",
    "# # 46 is Elapsed time for \" Camera Area ID \" == 6 and \" Time detection date \" ==  \" 2022-12-01 00:00:00 \"\n",
    "\n",
    "# grp2.last()\n",
    "# grp2.get_group((6, '2022-12-01 00:00:00'))['経過時間'].unique()\n",
    "# grp2.get_group((41, '2022-12-01 23:54:36'))['経過時間'].unique()\n",
    "\n"
   ]
  },
  {
   "cell_type": "code",
   "execution_count": null,
   "id": "0d89ae1a",
   "metadata": {
    "scrolled": true
   },
   "outputs": [],
   "source": [
    "df.dtypes  ##  Here we can see that the \" Elapsed Time \" is is Integer, should convert it to \" datetime \""
   ]
  },
  {
   "cell_type": "code",
   "execution_count": null,
   "id": "4fc1f795",
   "metadata": {},
   "outputs": [],
   "source": [
    "# df['経過時間_New'] = pd.to_datetime(df['経過時間'], format='%m/%d/%Y %H:%M:%S.%f',infer_datetime_format=True) \n",
    "# format='%Y:%m:%d:%H:%M:%S') #%m/%d/%Y %H:%M:%S.%f "
   ]
  },
  {
   "cell_type": "code",
   "execution_count": null,
   "id": "ad8bd472",
   "metadata": {},
   "outputs": [],
   "source": [
    "df['経過時間_New'] = pd.to_timedelta(df['経過時間'], unit='s')\n",
    "df['経過時間_New']"
   ]
  },
  {
   "cell_type": "code",
   "execution_count": null,
   "id": "9c9a34c7",
   "metadata": {},
   "outputs": [],
   "source": [
    "df.dtypes"
   ]
  },
  {
   "cell_type": "code",
   "execution_count": null,
   "id": "1a03b512",
   "metadata": {},
   "outputs": [],
   "source": [
    "df[df['カメラエリアID'] == 6]"
   ]
  },
  {
   "cell_type": "code",
   "execution_count": null,
   "id": "9e859ec7",
   "metadata": {},
   "outputs": [],
   "source": [
    "df['クラス名'].unique()"
   ]
  },
  {
   "cell_type": "code",
   "execution_count": null,
   "id": "23c4f5c1",
   "metadata": {},
   "outputs": [],
   "source": [
    "# # Elapsed time for status data\n",
    "# grp3 = df[[\"カメラエリアID\",\"クラス名\",\"経過時間_New\"]].groupby([\"カメラエリアID\",\"クラス名\"]).sum()\n",
    "# grp3 = grp3.reset_index()\n",
    "# # status_data2\n",
    "# group_data = grp3[['クラス名','経過時間_New']]\n",
    "# group_data"
   ]
  },
  {
   "cell_type": "code",
   "execution_count": null,
   "id": "77a7bd30",
   "metadata": {},
   "outputs": [],
   "source": [
    "# # Elapsed time for status data\n",
    "# grp4 = df[[\"カメラエリアID\",'クラス名',\"経過時間_New\"]].groupby([\"カメラエリアID\",\"クラス名\"]).sum()\n",
    "# grp4 = grp4.reset_index()\n",
    "# # status_data2\n",
    "# group_data2 = grp4[['カメラエリアID','経過時間_New']]\n",
    "# group_data2[group_data2['カメラエリアID'] == 6]"
   ]
  },
  {
   "cell_type": "code",
   "execution_count": null,
   "id": "fcf09a54",
   "metadata": {},
   "outputs": [],
   "source": [
    "# r = df[[\"カメラエリアID\",\"クラス名\",\"経過時間_New\"]].groupby([\"カメラエリアID\"])\n",
    "# r.first()\n",
    "# r.get_group(10)['クラス名'] == \"NO_DATA\""
   ]
  },
  {
   "cell_type": "code",
   "execution_count": null,
   "id": "05bb8950",
   "metadata": {},
   "outputs": [],
   "source": [
    "# Elapsed time for status data\n",
    "grp2 = df[[\"カメラエリアID\",'クラス名',\"経過時間_New\"]].groupby([\"カメラエリアID\", \"経過時間_New\"]).mean().reset_index()\n",
    "# print(type(grp2))\n",
    "#  grp2 = df.groupby(['カメラエリアID', '検出日時'])\n",
    "\n",
    "# status_data2\n",
    "group_data3 = grp2[['カメラエリアID','経過時間_New']]\n",
    "# group_data3[group_data3['カメラエリアID'] == 6]"
   ]
  },
  {
   "cell_type": "code",
   "execution_count": null,
   "id": "33bf12c2",
   "metadata": {},
   "outputs": [],
   "source": [
    "# grp2.get_group((6, 27))"
   ]
  },
  {
   "cell_type": "code",
   "execution_count": null,
   "id": "5497a147",
   "metadata": {
    "scrolled": true
   },
   "outputs": [],
   "source": [
    "x = grp2[grp2['クラス名'] == \"NO_DATA\"]['経過時間']    #- grp5[grp5['クラス名'] == \"稼働\"]['経過時間_New'] "
   ]
  },
  {
   "cell_type": "code",
   "execution_count": null,
   "id": "47859e52",
   "metadata": {
    "scrolled": true
   },
   "outputs": [],
   "source": [
    "y = grp2[grp2['クラス名'] == \"稼働\"]['経過時間']"
   ]
  },
  {
   "cell_type": "code",
   "execution_count": null,
   "id": "727e0355",
   "metadata": {
    "scrolled": true
   },
   "outputs": [],
   "source": [
    "grp2['Sub'] = x - y"
   ]
  },
  {
   "cell_type": "code",
   "execution_count": null,
   "id": "63475e05",
   "metadata": {},
   "outputs": [],
   "source": [
    "# grp2['経過時間_New'] = pd.to_timedelta(x, unit='s')\n",
    "# grp2['経過時間_New']"
   ]
  },
  {
   "cell_type": "code",
   "execution_count": null,
   "id": "78f47774",
   "metadata": {},
   "outputs": [],
   "source": [
    "# grp2['経過時間_New'] = pd.to_timedelta(y, unit='s')\n",
    "# grp2['経過時間_New']"
   ]
  },
  {
   "cell_type": "code",
   "execution_count": null,
   "id": "0b08e697",
   "metadata": {},
   "outputs": [],
   "source": [
    "grp2"
   ]
  },
  {
   "cell_type": "code",
   "execution_count": null,
   "id": "39b083a7",
   "metadata": {
    "scrolled": true
   },
   "outputs": [],
   "source": [
    "# groupby and calc the diff between the groups from the first timestamp when sorted\n",
    "# grp5['diff'] = grp5.groupby(['経過時間_New', 'クラス名'])['経過時間_New'].apply(lambda x: x - x.iloc[0])\n",
    "\n",
    "# filter dataframe where the diff is less than 1 hour and does not equal 0\n",
    "# dup[(dup['diff'] < pd.Timedelta('1 hour')) & (dup['diff'] != pd.Timedelta('0 hour'))]"
   ]
  },
  {
   "cell_type": "code",
   "execution_count": null,
   "id": "ebf7bc02",
   "metadata": {},
   "outputs": [],
   "source": [
    "# grp5['Time_Diff'] = pd.to_datetime(x) - pd.to_datetime(y)"
   ]
  },
  {
   "cell_type": "code",
   "execution_count": null,
   "id": "a74d0bb1",
   "metadata": {},
   "outputs": [],
   "source": [
    "grp5.dtypes"
   ]
  },
  {
   "cell_type": "code",
   "execution_count": null,
   "id": "2dff1585",
   "metadata": {},
   "outputs": [],
   "source": [
    "grp5"
   ]
  },
  {
   "cell_type": "code",
   "execution_count": null,
   "id": "f7ba8122",
   "metadata": {},
   "outputs": [],
   "source": []
  }
 ],
 "metadata": {
  "kernelspec": {
   "display_name": "Python 3",
   "language": "python",
   "name": "python3"
  },
  "language_info": {
   "codemirror_mode": {
    "name": "ipython",
    "version": 3
   },
   "file_extension": ".py",
   "mimetype": "text/x-python",
   "name": "python",
   "nbconvert_exporter": "python",
   "pygments_lexer": "ipython3",
   "version": "3.8.3"
  }
 },
 "nbformat": 4,
 "nbformat_minor": 5
}
